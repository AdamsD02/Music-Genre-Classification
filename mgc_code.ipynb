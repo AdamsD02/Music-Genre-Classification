{
  "cells": [
    {
      "cell_type": "markdown",
      "metadata": {
        "id": "view-in-github",
        "colab_type": "text"
      },
      "source": [
        "<a href=\"https://colab.research.google.com/github/AdamsD02/Music-Genre-Classification/blob/main/mgc_code.ipynb\" target=\"_parent\"><img src=\"https://colab.research.google.com/assets/colab-badge.svg\" alt=\"Open In Colab\"/></a>"
      ]
    },
    {
      "cell_type": "code",
      "source": [
        "!git clone \"https://github.com/AdamsD02/Music-Genre-Classification.git\"\n"
      ],
      "metadata": {
        "colab": {
          "base_uri": "https://localhost:8080/"
        },
        "id": "5rplDXnz-Jh-",
        "outputId": "79ca958f-fe6c-4122-d7ce-22eaec7bf8a7"
      },
      "execution_count": 1,
      "outputs": [
        {
          "output_type": "stream",
          "name": "stdout",
          "text": [
            "Cloning into 'Music-Genre-Classification'...\n",
            "remote: Enumerating objects: 1015, done.\u001b[K\n",
            "remote: Counting objects: 100% (3/3), done.\u001b[K\n",
            "remote: Compressing objects: 100% (3/3), done.\u001b[K\n",
            "remote: Total 1015 (delta 0), reused 0 (delta 0), pack-reused 1012 (from 2)\u001b[K\n",
            "Receiving objects: 100% (1015/1015), 1.13 GiB | 25.09 MiB/s, done.\n",
            "Updating files: 100% (1003/1003), done.\n"
          ]
        }
      ]
    },
    {
      "cell_type": "code",
      "source": [
        "%cd \"Music-Genre-Classification\""
      ],
      "metadata": {
        "colab": {
          "base_uri": "https://localhost:8080/"
        },
        "id": "VmxQcu5fA42B",
        "outputId": "af87e7e0-74ab-4786-b619-7260153bee2b"
      },
      "execution_count": 2,
      "outputs": [
        {
          "output_type": "stream",
          "name": "stdout",
          "text": [
            "/content/Music-Genre-Classification\n"
          ]
        }
      ]
    },
    {
      "cell_type": "code",
      "source": [
        "%ls"
      ],
      "metadata": {
        "colab": {
          "base_uri": "https://localhost:8080/"
        },
        "id": "SEB_jW1oA7i4",
        "outputId": "4d624000-a5bf-4902-abb6-7e371e46a236"
      },
      "execution_count": 3,
      "outputs": [
        {
          "output_type": "stream",
          "name": "stdout",
          "text": [
            "features_30_sec.csv  \u001b[0m\u001b[01;34mgenres\u001b[0m/  mgc_code.ipynb  README.md\n"
          ]
        }
      ]
    },
    {
      "cell_type": "markdown",
      "source": [
        "### Install Librosa library for audio analysis and manipulation"
      ],
      "metadata": {
        "id": "Dlv8OhfiDEhG"
      }
    },
    {
      "cell_type": "code",
      "source": [
        "pip install librosa"
      ],
      "metadata": {
        "colab": {
          "base_uri": "https://localhost:8080/"
        },
        "id": "TiC4VAvwBLoy",
        "outputId": "bfe71382-16ba-45cd-bcf5-efcb654c288f"
      },
      "execution_count": 4,
      "outputs": [
        {
          "output_type": "stream",
          "name": "stdout",
          "text": [
            "Requirement already satisfied: librosa in /usr/local/lib/python3.11/dist-packages (0.11.0)\n",
            "Requirement already satisfied: audioread>=2.1.9 in /usr/local/lib/python3.11/dist-packages (from librosa) (3.0.1)\n",
            "Requirement already satisfied: numba>=0.51.0 in /usr/local/lib/python3.11/dist-packages (from librosa) (0.60.0)\n",
            "Requirement already satisfied: numpy>=1.22.3 in /usr/local/lib/python3.11/dist-packages (from librosa) (2.0.2)\n",
            "Requirement already satisfied: scipy>=1.6.0 in /usr/local/lib/python3.11/dist-packages (from librosa) (1.15.2)\n",
            "Requirement already satisfied: scikit-learn>=1.1.0 in /usr/local/lib/python3.11/dist-packages (from librosa) (1.6.1)\n",
            "Requirement already satisfied: joblib>=1.0 in /usr/local/lib/python3.11/dist-packages (from librosa) (1.4.2)\n",
            "Requirement already satisfied: decorator>=4.3.0 in /usr/local/lib/python3.11/dist-packages (from librosa) (4.4.2)\n",
            "Requirement already satisfied: soundfile>=0.12.1 in /usr/local/lib/python3.11/dist-packages (from librosa) (0.13.1)\n",
            "Requirement already satisfied: pooch>=1.1 in /usr/local/lib/python3.11/dist-packages (from librosa) (1.8.2)\n",
            "Requirement already satisfied: soxr>=0.3.2 in /usr/local/lib/python3.11/dist-packages (from librosa) (0.5.0.post1)\n",
            "Requirement already satisfied: typing_extensions>=4.1.1 in /usr/local/lib/python3.11/dist-packages (from librosa) (4.13.2)\n",
            "Requirement already satisfied: lazy_loader>=0.1 in /usr/local/lib/python3.11/dist-packages (from librosa) (0.4)\n",
            "Requirement already satisfied: msgpack>=1.0 in /usr/local/lib/python3.11/dist-packages (from librosa) (1.1.0)\n",
            "Requirement already satisfied: packaging in /usr/local/lib/python3.11/dist-packages (from lazy_loader>=0.1->librosa) (24.2)\n",
            "Requirement already satisfied: llvmlite<0.44,>=0.43.0dev0 in /usr/local/lib/python3.11/dist-packages (from numba>=0.51.0->librosa) (0.43.0)\n",
            "Requirement already satisfied: platformdirs>=2.5.0 in /usr/local/lib/python3.11/dist-packages (from pooch>=1.1->librosa) (4.3.7)\n",
            "Requirement already satisfied: requests>=2.19.0 in /usr/local/lib/python3.11/dist-packages (from pooch>=1.1->librosa) (2.32.3)\n",
            "Requirement already satisfied: threadpoolctl>=3.1.0 in /usr/local/lib/python3.11/dist-packages (from scikit-learn>=1.1.0->librosa) (3.6.0)\n",
            "Requirement already satisfied: cffi>=1.0 in /usr/local/lib/python3.11/dist-packages (from soundfile>=0.12.1->librosa) (1.17.1)\n",
            "Requirement already satisfied: pycparser in /usr/local/lib/python3.11/dist-packages (from cffi>=1.0->soundfile>=0.12.1->librosa) (2.22)\n",
            "Requirement already satisfied: charset-normalizer<4,>=2 in /usr/local/lib/python3.11/dist-packages (from requests>=2.19.0->pooch>=1.1->librosa) (3.4.1)\n",
            "Requirement already satisfied: idna<4,>=2.5 in /usr/local/lib/python3.11/dist-packages (from requests>=2.19.0->pooch>=1.1->librosa) (3.10)\n",
            "Requirement already satisfied: urllib3<3,>=1.21.1 in /usr/local/lib/python3.11/dist-packages (from requests>=2.19.0->pooch>=1.1->librosa) (2.4.0)\n",
            "Requirement already satisfied: certifi>=2017.4.17 in /usr/local/lib/python3.11/dist-packages (from requests>=2.19.0->pooch>=1.1->librosa) (2025.4.26)\n"
          ]
        }
      ]
    },
    {
      "cell_type": "markdown",
      "source": [
        "Chatgpt Code"
      ],
      "metadata": {
        "id": "kc1h52C9DcjR"
      }
    },
    {
      "cell_type": "code",
      "source": [
        "import os\n",
        "import librosa\n",
        "import numpy as np\n",
        "import pandas as pd\n",
        "\n",
        "# Set path to the GTZAN dataset\n",
        "DATASET_PATH = \"/content/Music-Genre-Classification/genres\"\n",
        "GENRES = os.listdir(DATASET_PATH)\n",
        "\n",
        "# Store all features\n",
        "feature_list = []\n",
        "\n",
        "# Loop over genres and files\n",
        "for genre in GENRES:\n",
        "    genre_path = os.path.join(DATASET_PATH, genre)\n",
        "    for filename in os.listdir(genre_path):\n",
        "        if filename.endswith('.wav'):\n",
        "            file_path = os.path.join(genre_path, filename)\n",
        "            print(file_path)\n",
        "            y, sr = librosa.load(file_path, duration=30)\n",
        "\n",
        "            # Extract features\n",
        "            mfcc = librosa.feature.mfcc(y=y, sr=sr, n_mfcc=13)\n",
        "            zcr = librosa.feature.zero_crossing_rate(y)\n",
        "            spec_centroid = librosa.feature.spectral_centroid(y=y, sr=sr)\n",
        "            chroma = librosa.feature.chroma_stft(y=y, sr=sr)\n",
        "\n",
        "            # Compute mean and variance\n",
        "            features = {\n",
        "                \"filename\": filename,\n",
        "                \"genre\": genre,\n",
        "            }\n",
        "\n",
        "            # MFCCs\n",
        "            for i in range(mfcc.shape[0]):\n",
        "                features[f\"mfcc{i+1}_mean\"] = np.mean(mfcc[i])\n",
        "                features[f\"mfcc{i+1}_var\"] = np.var(mfcc[i])\n",
        "\n",
        "            # ZCR\n",
        "            features[\"zcr_mean\"] = np.mean(zcr)\n",
        "            features[\"zcr_var\"] = np.var(zcr)\n",
        "\n",
        "            # Spectral Centroid\n",
        "            features[\"spec_centroid_mean\"] = np.mean(spec_centroid)\n",
        "            features[\"spec_centroid_var\"] = np.var(spec_centroid)\n",
        "\n",
        "            # Chroma\n",
        "            for i in range(chroma.shape[0]):\n",
        "                features[f\"chroma{i+1}_mean\"] = np.mean(chroma[i])\n",
        "                features[f\"chroma{i+1}_var\"] = np.var(chroma[i])\n",
        "\n",
        "            feature_list.append(features)\n",
        "            print(features_lis)\n",
        "\n",
        "# Save to CSV\n",
        "# df = pd.DataFrame(feature_list)\n",
        "# df.to_csv(\"gtzan_features.csv\", index=False)\n",
        "\n",
        "print(\"Feature extraction complete. Saved to gtzan_features.csv.\")\n"
      ],
      "metadata": {
        "id": "kmuYndXpDjKc",
        "outputId": "ab8fccb4-ed72-4aae-83c8-631568c01a1c",
        "colab": {
          "base_uri": "https://localhost:8080/"
        }
      },
      "execution_count": 6,
      "outputs": [
        {
          "output_type": "stream",
          "name": "stdout",
          "text": [
            "Feature extraction complete. Saved to gtzan_features.csv.\n"
          ]
        }
      ]
    },
    {
      "cell_type": "code",
      "source": [],
      "metadata": {
        "id": "AEsAwYXOEQlP"
      },
      "execution_count": 5,
      "outputs": []
    }
  ],
  "metadata": {
    "colab": {
      "provenance": [],
      "include_colab_link": true
    },
    "kernelspec": {
      "display_name": "Python 3",
      "name": "python3"
    }
  },
  "nbformat": 4,
  "nbformat_minor": 0
}