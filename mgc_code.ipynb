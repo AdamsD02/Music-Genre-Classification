{
  "cells": [
    {
      "cell_type": "markdown",
      "metadata": {
        "id": "view-in-github",
        "colab_type": "text"
      },
      "source": [
        "<a href=\"https://colab.research.google.com/github/AdamsD02/Music-Genre-Classification/blob/main/mgc_code.ipynb\" target=\"_parent\"><img src=\"https://colab.research.google.com/assets/colab-badge.svg\" alt=\"Open In Colab\"/></a>"
      ]
    },
    {
      "cell_type": "code",
      "source": [
        "!git clone \"https://github.com/AdamsD02/Music-Genre-Classification.git\"\n"
      ],
      "metadata": {
        "id": "5rplDXnz-Jh-",
        "outputId": "2ef39d72-e5a7-4e0e-8b86-d39c75457a32",
        "colab": {
          "base_uri": "https://localhost:8080/"
        }
      },
      "execution_count": 2,
      "outputs": [
        {
          "output_type": "stream",
          "name": "stdout",
          "text": [
            "Cloning into 'Music-Genre-Classification'...\n",
            "remote: Enumerating objects: 1012, done.\u001b[K\n",
            "remote: Total 1012 (delta 0), reused 0 (delta 0), pack-reused 1012 (from 2)\u001b[K\n",
            "Receiving objects: 100% (1012/1012), 1.13 GiB | 30.00 MiB/s, done.\n",
            "Updating files: 100% (1002/1002), done.\n"
          ]
        }
      ]
    },
    {
      "cell_type": "code",
      "source": [
        "%cd \"Music-Genre-Classification\""
      ],
      "metadata": {
        "id": "VmxQcu5fA42B",
        "outputId": "7dfc8c9f-f61f-44a1-932e-fa32aaede963",
        "colab": {
          "base_uri": "https://localhost:8080/"
        }
      },
      "execution_count": 5,
      "outputs": [
        {
          "output_type": "stream",
          "name": "stdout",
          "text": [
            "/content/Music-Genre-Classification\n"
          ]
        }
      ]
    },
    {
      "cell_type": "code",
      "source": [
        "%ls"
      ],
      "metadata": {
        "id": "SEB_jW1oA7i4",
        "outputId": "5409ea38-e731-442b-ab67-3e54024a0b92",
        "colab": {
          "base_uri": "https://localhost:8080/"
        }
      },
      "execution_count": 6,
      "outputs": [
        {
          "output_type": "stream",
          "name": "stdout",
          "text": [
            "features_30_sec.csv  \u001b[0m\u001b[01;34mgenres\u001b[0m/  README.md\n"
          ]
        }
      ]
    },
    {
      "cell_type": "code",
      "source": [],
      "metadata": {
        "id": "TiC4VAvwBLoy"
      },
      "execution_count": null,
      "outputs": []
    }
  ],
  "metadata": {
    "colab": {
      "name": "Welcome To Colab",
      "provenance": [],
      "include_colab_link": true
    },
    "kernelspec": {
      "display_name": "Python 3",
      "name": "python3"
    }
  },
  "nbformat": 4,
  "nbformat_minor": 0
}