{
  "cells": [
    {
      "cell_type": "markdown",
      "metadata": {
        "id": "view-in-github",
        "colab_type": "text"
      },
      "source": [
        "<a href=\"https://colab.research.google.com/github/AdamsD02/Music-Genre-Classification/blob/main/mgc_code.ipynb\" target=\"_parent\"><img src=\"https://colab.research.google.com/assets/colab-badge.svg\" alt=\"Open In Colab\"/></a>"
      ]
    },
    {
      "cell_type": "code",
      "execution_count": 2,
      "metadata": {
        "colab": {
          "base_uri": "https://localhost:8080/"
        },
        "id": "5rplDXnz-Jh-",
        "outputId": "83e787e2-795f-4f9b-875b-0526f5b3a11e"
      },
      "outputs": [
        {
          "output_type": "stream",
          "name": "stdout",
          "text": [
            "Cloning into 'Music-Genre-Classification'...\n",
            "remote: Enumerating objects: 1027, done.\u001b[K\n",
            "remote: Counting objects: 100% (15/15), done.\u001b[K\n",
            "remote: Compressing objects: 100% (15/15), done.\u001b[K\n",
            "remote: Total 1027 (delta 8), reused 0 (delta 0), pack-reused 1012 (from 2)\u001b[K\n",
            "Receiving objects: 100% (1027/1027), 1.13 GiB | 32.03 MiB/s, done.\n",
            "Resolving deltas: 100% (8/8), done.\n",
            "Updating files: 100% (1003/1003), done.\n"
          ]
        }
      ],
      "source": [
        "!git clone \"https://github.com/AdamsD02/Music-Genre-Classification.git\"\n"
      ]
    },
    {
      "cell_type": "code",
      "execution_count": 17,
      "metadata": {
        "colab": {
          "base_uri": "https://localhost:8080/"
        },
        "id": "VmxQcu5fA42B",
        "outputId": "d5911ade-f2ab-4135-dad2-09308ebabc92"
      },
      "outputs": [
        {
          "output_type": "stream",
          "name": "stdout",
          "text": [
            "/content/Music-Genre-Classification\n"
          ]
        }
      ],
      "source": [
        "%cd \"Music-Genre-Classification\""
      ]
    },
    {
      "cell_type": "code",
      "execution_count": 18,
      "metadata": {
        "colab": {
          "base_uri": "https://localhost:8080/"
        },
        "id": "SEB_jW1oA7i4",
        "outputId": "139185e5-8cb4-4df0-dbed-cac8105a7966"
      },
      "outputs": [
        {
          "output_type": "stream",
          "name": "stdout",
          "text": [
            "config.py  features_30_sec.csv  \u001b[0m\u001b[01;34mgenres\u001b[0m/  mgc_code.ipynb  README.md\n"
          ]
        }
      ],
      "source": [
        "%ls"
      ]
    },
    {
      "cell_type": "markdown",
      "metadata": {
        "id": "Dlv8OhfiDEhG"
      },
      "source": [
        " Install Librosa library for audio analysis and manipulation"
      ]
    },
    {
      "cell_type": "code",
      "execution_count": null,
      "metadata": {
        "id": "TiC4VAvwBLoy"
      },
      "outputs": [],
      "source": [
        "pip install librosa"
      ]
    },
    {
      "cell_type": "code",
      "source": [
        "!git status"
      ],
      "metadata": {
        "colab": {
          "base_uri": "https://localhost:8080/"
        },
        "id": "GEvawR-WPMj-",
        "outputId": "ef0f8204-779e-4dbd-a672-a2b391c390d6"
      },
      "execution_count": 30,
      "outputs": [
        {
          "output_type": "stream",
          "name": "stdout",
          "text": [
            "On branch main\n",
            "Your branch is ahead of 'origin/main' by 1 commit.\n",
            "  (use \"git push\" to publish your local commits)\n",
            "\n",
            "nothing to commit, working tree clean\n"
          ]
        }
      ]
    },
    {
      "cell_type": "code",
      "source": [
        "!git restore --staged config.py"
      ],
      "metadata": {
        "id": "Q6YqiJXs6Tqx"
      },
      "execution_count": 27,
      "outputs": []
    },
    {
      "cell_type": "code",
      "source": [
        "!git config --global user.email \"jdsouzaadams@gmail.com\"\n",
        "!git config --global user.name \"AdamsD02\"\n",
        "!git add .gitignore\n",
        "!git commit -m \"Add config.py to .gitignore\""
      ],
      "metadata": {
        "colab": {
          "base_uri": "https://localhost:8080/"
        },
        "id": "RusXz9Yp6gAj",
        "outputId": "cff77d78-c626-4c88-8a83-263d4c18856a"
      },
      "execution_count": 29,
      "outputs": [
        {
          "output_type": "stream",
          "name": "stdout",
          "text": [
            "[main 7af36ee] Add config.py to .gitignore\n",
            " 1 file changed, 2 insertions(+)\n",
            " create mode 100644 .gitignore\n"
          ]
        }
      ]
    },
    {
      "cell_type": "code",
      "source": [
        "!git push"
      ],
      "metadata": {
        "colab": {
          "base_uri": "https://localhost:8080/"
        },
        "id": "YqxozaNe-uY8",
        "outputId": "7eac2737-1a12-4cf5-f011-9c6069177477"
      },
      "execution_count": 31,
      "outputs": [
        {
          "output_type": "stream",
          "name": "stdout",
          "text": [
            "fatal: could not read Username for 'https://github.com': No such device or address\n"
          ]
        }
      ]
    },
    {
      "cell_type": "markdown",
      "source": [
        "### Import Libraries"
      ],
      "metadata": {
        "id": "YO4AaHuDkeS5"
      }
    },
    {
      "cell_type": "code",
      "source": [
        "import os\n",
        "import librosa\n",
        "import numpy as np\n",
        "import pandas as pd\n",
        "from sklearn.model_selection import train_test_split\n",
        "from sklearn.linear_model import LinearRegression\n"
      ],
      "metadata": {
        "id": "E2szZvKgkl-h"
      },
      "execution_count": 1,
      "outputs": []
    },
    {
      "cell_type": "markdown",
      "source": [
        "## Read .csv file containing data for Classifying Genres"
      ],
      "metadata": {
        "id": "mu1nljeDZ4ZX"
      }
    },
    {
      "cell_type": "code",
      "source": [
        "df = pd.read_csv(\"/content/Music-Genre-Classification/features_30_sec.csv\")\n",
        "# df.head()\n",
        "# list dataset features\n",
        "print(df.columns.tolist())"
      ],
      "metadata": {
        "colab": {
          "base_uri": "https://localhost:8080/"
        },
        "id": "xDEILcL4PO9X",
        "outputId": "d9a8f198-c919-4316-b052-ba7dc7e43db7"
      },
      "execution_count": 2,
      "outputs": [
        {
          "output_type": "stream",
          "name": "stdout",
          "text": [
            "['filename', 'length', 'chroma_stft_mean', 'chroma_stft_var', 'rms_mean', 'rms_var', 'spectral_centroid_mean', 'spectral_centroid_var', 'spectral_bandwidth_mean', 'spectral_bandwidth_var', 'rolloff_mean', 'rolloff_var', 'zero_crossing_rate_mean', 'zero_crossing_rate_var', 'harmony_mean', 'harmony_var', 'perceptr_mean', 'perceptr_var', 'tempo', 'mfcc1_mean', 'mfcc1_var', 'mfcc2_mean', 'mfcc2_var', 'mfcc3_mean', 'mfcc3_var', 'mfcc4_mean', 'mfcc4_var', 'mfcc5_mean', 'mfcc5_var', 'mfcc6_mean', 'mfcc6_var', 'mfcc7_mean', 'mfcc7_var', 'mfcc8_mean', 'mfcc8_var', 'mfcc9_mean', 'mfcc9_var', 'mfcc10_mean', 'mfcc10_var', 'mfcc11_mean', 'mfcc11_var', 'mfcc12_mean', 'mfcc12_var', 'mfcc13_mean', 'mfcc13_var', 'mfcc14_mean', 'mfcc14_var', 'mfcc15_mean', 'mfcc15_var', 'mfcc16_mean', 'mfcc16_var', 'mfcc17_mean', 'mfcc17_var', 'mfcc18_mean', 'mfcc18_var', 'mfcc19_mean', 'mfcc19_var', 'mfcc20_mean', 'mfcc20_var', 'label']\n"
          ]
        }
      ]
    },
    {
      "cell_type": "markdown",
      "source": [
        "### Manipulate dataframe to:\n",
        "*   Separate target(X) and features(y)\n",
        "*   Split into traning and testing (80-20)"
      ],
      "metadata": {
        "id": "yi-uXBfEgrly"
      }
    },
    {
      "cell_type": "code",
      "source": [
        "X = df.iloc[:, 2:59] # chroma_stft_mean to mfcc20_var\n",
        "\n",
        "# Encode non-numerical data\n",
        "from sklearn.preprocessing import LabelEncoder\n",
        "le = LabelEncoder()\n",
        "y = le.fit_transform(df['label'])\n",
        "\n",
        "print(X.shape)\n",
        "print(np.unique(y))\n",
        "\n",
        "X_train, X_test, y_train, y_test = train_test_split(X, y, test_size=0.2, random_state=4)\n",
        "print(\"X_train size: \", len(X_train))\n",
        "print(\"X_test size: \", len(X_test))"
      ],
      "metadata": {
        "id": "XCQd-DJ4fNk0",
        "colab": {
          "base_uri": "https://localhost:8080/"
        },
        "outputId": "8621f23b-54a0-4e91-b475-deff25ff6082"
      },
      "execution_count": 3,
      "outputs": [
        {
          "output_type": "stream",
          "name": "stdout",
          "text": [
            "(1000, 57)\n",
            "[0 1 2 3 4 5 6 7 8 9]\n",
            "X_train size:  800\n",
            "X_test size:  200\n"
          ]
        }
      ]
    },
    {
      "cell_type": "markdown",
      "source": [
        "### Use LightGBM as Model Classification and training"
      ],
      "metadata": {
        "id": "vdGucZrlgZH5"
      }
    },
    {
      "cell_type": "code",
      "source": [
        "import lightgbm as lgb\n",
        "\n",
        "clf = lgb.LGBMClassifier()\n",
        "# clf = lgb.LGBMClassifier(force_col_wise=False)\n",
        "clf.fit(X_train, y_train)\n"
      ],
      "metadata": {
        "id": "O42MmKcfghBb"
      },
      "execution_count": null,
      "outputs": []
    },
    {
      "cell_type": "markdown",
      "source": [
        "### Testing and Predictions"
      ],
      "metadata": {
        "id": "lwjQjTRCzV6k"
      }
    },
    {
      "cell_type": "code",
      "source": [
        "# predict the results\n",
        "y_pred = clf.predict(X_test)\n",
        "\n",
        "predicted_genres = le.inverse_transform(y_pred)\n",
        "\n",
        "mse = np.mean((y_pred - y_test) ** 2)\n",
        "count = 0\n",
        "print(\"Mse: \", mse)\n",
        "# print(y_pred)\n",
        "for i in range(len(y_pred)):\n",
        "  if y_pred[i] - y_test[i] == 0:\n",
        "    count += 1\n",
        "  # print(\"Predicted: \", predicted_genres[i], \"\\t| Actual: \", le.inverse_transform([y_test[i]]))\n",
        "\n",
        "print(\"Accuracy: \", count/len(y_pred))\n"
      ],
      "metadata": {
        "colab": {
          "base_uri": "https://localhost:8080/"
        },
        "id": "UFDTWAXRzUu3",
        "outputId": "4cecf176-4fd1-4c04-e11e-0657780b6425"
      },
      "execution_count": 5,
      "outputs": [
        {
          "output_type": "stream",
          "name": "stdout",
          "text": [
            "Mse:  7.76\n",
            "Accuracy:  0.73\n"
          ]
        }
      ]
    },
    {
      "cell_type": "code",
      "source": [
        "from google.colab import files\n",
        "\n",
        "myfile = files.upload()"
      ],
      "metadata": {
        "colab": {
          "base_uri": "https://localhost:8080/",
          "height": 73
        },
        "id": "2b8UwCtRcWHd",
        "outputId": "a86cb2ca-41ff-4200-9ffd-77cee7ad4f45"
      },
      "execution_count": 6,
      "outputs": [
        {
          "output_type": "display_data",
          "data": {
            "text/plain": [
              "<IPython.core.display.HTML object>"
            ],
            "text/html": [
              "\n",
              "     <input type=\"file\" id=\"files-18dc7234-a02a-4131-984d-bd01534060b6\" name=\"files[]\" multiple disabled\n",
              "        style=\"border:none\" />\n",
              "     <output id=\"result-18dc7234-a02a-4131-984d-bd01534060b6\">\n",
              "      Upload widget is only available when the cell has been executed in the\n",
              "      current browser session. Please rerun this cell to enable.\n",
              "      </output>\n",
              "      <script>// Copyright 2017 Google LLC\n",
              "//\n",
              "// Licensed under the Apache License, Version 2.0 (the \"License\");\n",
              "// you may not use this file except in compliance with the License.\n",
              "// You may obtain a copy of the License at\n",
              "//\n",
              "//      http://www.apache.org/licenses/LICENSE-2.0\n",
              "//\n",
              "// Unless required by applicable law or agreed to in writing, software\n",
              "// distributed under the License is distributed on an \"AS IS\" BASIS,\n",
              "// WITHOUT WARRANTIES OR CONDITIONS OF ANY KIND, either express or implied.\n",
              "// See the License for the specific language governing permissions and\n",
              "// limitations under the License.\n",
              "\n",
              "/**\n",
              " * @fileoverview Helpers for google.colab Python module.\n",
              " */\n",
              "(function(scope) {\n",
              "function span(text, styleAttributes = {}) {\n",
              "  const element = document.createElement('span');\n",
              "  element.textContent = text;\n",
              "  for (const key of Object.keys(styleAttributes)) {\n",
              "    element.style[key] = styleAttributes[key];\n",
              "  }\n",
              "  return element;\n",
              "}\n",
              "\n",
              "// Max number of bytes which will be uploaded at a time.\n",
              "const MAX_PAYLOAD_SIZE = 100 * 1024;\n",
              "\n",
              "function _uploadFiles(inputId, outputId) {\n",
              "  const steps = uploadFilesStep(inputId, outputId);\n",
              "  const outputElement = document.getElementById(outputId);\n",
              "  // Cache steps on the outputElement to make it available for the next call\n",
              "  // to uploadFilesContinue from Python.\n",
              "  outputElement.steps = steps;\n",
              "\n",
              "  return _uploadFilesContinue(outputId);\n",
              "}\n",
              "\n",
              "// This is roughly an async generator (not supported in the browser yet),\n",
              "// where there are multiple asynchronous steps and the Python side is going\n",
              "// to poll for completion of each step.\n",
              "// This uses a Promise to block the python side on completion of each step,\n",
              "// then passes the result of the previous step as the input to the next step.\n",
              "function _uploadFilesContinue(outputId) {\n",
              "  const outputElement = document.getElementById(outputId);\n",
              "  const steps = outputElement.steps;\n",
              "\n",
              "  const next = steps.next(outputElement.lastPromiseValue);\n",
              "  return Promise.resolve(next.value.promise).then((value) => {\n",
              "    // Cache the last promise value to make it available to the next\n",
              "    // step of the generator.\n",
              "    outputElement.lastPromiseValue = value;\n",
              "    return next.value.response;\n",
              "  });\n",
              "}\n",
              "\n",
              "/**\n",
              " * Generator function which is called between each async step of the upload\n",
              " * process.\n",
              " * @param {string} inputId Element ID of the input file picker element.\n",
              " * @param {string} outputId Element ID of the output display.\n",
              " * @return {!Iterable<!Object>} Iterable of next steps.\n",
              " */\n",
              "function* uploadFilesStep(inputId, outputId) {\n",
              "  const inputElement = document.getElementById(inputId);\n",
              "  inputElement.disabled = false;\n",
              "\n",
              "  const outputElement = document.getElementById(outputId);\n",
              "  outputElement.innerHTML = '';\n",
              "\n",
              "  const pickedPromise = new Promise((resolve) => {\n",
              "    inputElement.addEventListener('change', (e) => {\n",
              "      resolve(e.target.files);\n",
              "    });\n",
              "  });\n",
              "\n",
              "  const cancel = document.createElement('button');\n",
              "  inputElement.parentElement.appendChild(cancel);\n",
              "  cancel.textContent = 'Cancel upload';\n",
              "  const cancelPromise = new Promise((resolve) => {\n",
              "    cancel.onclick = () => {\n",
              "      resolve(null);\n",
              "    };\n",
              "  });\n",
              "\n",
              "  // Wait for the user to pick the files.\n",
              "  const files = yield {\n",
              "    promise: Promise.race([pickedPromise, cancelPromise]),\n",
              "    response: {\n",
              "      action: 'starting',\n",
              "    }\n",
              "  };\n",
              "\n",
              "  cancel.remove();\n",
              "\n",
              "  // Disable the input element since further picks are not allowed.\n",
              "  inputElement.disabled = true;\n",
              "\n",
              "  if (!files) {\n",
              "    return {\n",
              "      response: {\n",
              "        action: 'complete',\n",
              "      }\n",
              "    };\n",
              "  }\n",
              "\n",
              "  for (const file of files) {\n",
              "    const li = document.createElement('li');\n",
              "    li.append(span(file.name, {fontWeight: 'bold'}));\n",
              "    li.append(span(\n",
              "        `(${file.type || 'n/a'}) - ${file.size} bytes, ` +\n",
              "        `last modified: ${\n",
              "            file.lastModifiedDate ? file.lastModifiedDate.toLocaleDateString() :\n",
              "                                    'n/a'} - `));\n",
              "    const percent = span('0% done');\n",
              "    li.appendChild(percent);\n",
              "\n",
              "    outputElement.appendChild(li);\n",
              "\n",
              "    const fileDataPromise = new Promise((resolve) => {\n",
              "      const reader = new FileReader();\n",
              "      reader.onload = (e) => {\n",
              "        resolve(e.target.result);\n",
              "      };\n",
              "      reader.readAsArrayBuffer(file);\n",
              "    });\n",
              "    // Wait for the data to be ready.\n",
              "    let fileData = yield {\n",
              "      promise: fileDataPromise,\n",
              "      response: {\n",
              "        action: 'continue',\n",
              "      }\n",
              "    };\n",
              "\n",
              "    // Use a chunked sending to avoid message size limits. See b/62115660.\n",
              "    let position = 0;\n",
              "    do {\n",
              "      const length = Math.min(fileData.byteLength - position, MAX_PAYLOAD_SIZE);\n",
              "      const chunk = new Uint8Array(fileData, position, length);\n",
              "      position += length;\n",
              "\n",
              "      const base64 = btoa(String.fromCharCode.apply(null, chunk));\n",
              "      yield {\n",
              "        response: {\n",
              "          action: 'append',\n",
              "          file: file.name,\n",
              "          data: base64,\n",
              "        },\n",
              "      };\n",
              "\n",
              "      let percentDone = fileData.byteLength === 0 ?\n",
              "          100 :\n",
              "          Math.round((position / fileData.byteLength) * 100);\n",
              "      percent.textContent = `${percentDone}% done`;\n",
              "\n",
              "    } while (position < fileData.byteLength);\n",
              "  }\n",
              "\n",
              "  // All done.\n",
              "  yield {\n",
              "    response: {\n",
              "      action: 'complete',\n",
              "    }\n",
              "  };\n",
              "}\n",
              "\n",
              "scope.google = scope.google || {};\n",
              "scope.google.colab = scope.google.colab || {};\n",
              "scope.google.colab._files = {\n",
              "  _uploadFiles,\n",
              "  _uploadFilesContinue,\n",
              "};\n",
              "})(self);\n",
              "</script> "
            ]
          },
          "metadata": {}
        },
        {
          "output_type": "stream",
          "name": "stdout",
          "text": [
            "Saving Ai Se Eu Te Pego.mp3 to Ai Se Eu Te Pego.mp3\n"
          ]
        }
      ]
    },
    {
      "cell_type": "markdown",
      "source": [
        "## Feature Extraction from Uploaded Audio\n",
        "\n",
        "1.   Load and get sampling rate (sr)\n",
        "2.   trim audio (y)\n",
        "3.   sr should match fixed value in dataset, if not then resample\n",
        "4.   find chroma_stft, then its mean & variance\n",
        "5.   find rms, then its mean & var\n",
        "6.   find spectral_centroid, then its mean and var\n",
        "7.   find spectral_bandwidth, then its mean & var\n",
        "8.   roll_off, then its mean & var\n",
        "9.   zero-crossing-rate\n",
        "10.  harmonics, percetrual\n",
        "11.  tempo\n",
        "12.  mfcc with n_mfcc=20\n"
      ],
      "metadata": {
        "id": "IzYK6P2Wv-A-"
      }
    },
    {
      "cell_type": "code",
      "source": [
        "\n",
        "filename = list(myfile.keys())[0]\n",
        "print(\"File uploaded:\", filename)\n",
        "\n",
        "# If needed, get full path\n",
        "filepath = os.path.join(os.getcwd(), filename)\n",
        "print(\"Full path:\", filepath)\n",
        "\n",
        "# Load an MP3 file\n",
        "y, sr = librosa.load(filepath, sr=None)  # sr=None keeps original sample rate\n",
        "print(\"Sampling rate:\", sr)\n",
        "\n",
        "if sr != 22050:\n",
        "  y = librosa.resample(y=y, orig_sr=sr, target_sr=22050)\n",
        "  sr = 22050\n",
        "  print(\"New Sampling Rate: \", sr)\n",
        "\n",
        "# n_fft=2048, hop_length=512\n",
        "\n",
        "features = []\n",
        "\n",
        "#get chroma_mean and chroma_var\n",
        "chroma = librosa.feature.chroma_stft(y=y, sr=sr)\n",
        "chroma_mean = float(np.mean(chroma))\n",
        "chroma_var = float(np.var(chroma))\n",
        "print(\"Chroma Mean:\", chroma_mean, \"\\t | Chroma Variance:\", chroma_var)\n",
        "features.append(chroma_mean)\n",
        "features.append(chroma_var)\n",
        "\n",
        "#get rms_mean & rms_var\n",
        "rms = librosa.feature.rms(y=y)\n",
        "rms_mean = float(np.mean(rms))\n",
        "rms_var = float(np.var(rms))\n",
        "print(\"RMS Mean:\", rms_mean, \"\\t | RMS Variance:\", rms_var)\n",
        "features.append(rms_mean)\n",
        "features.append(rms_var)\n",
        "\n",
        "#get spectral-centroid mean & var\n",
        "spec_cent = librosa.feature.spectral_centroid(y=y, sr=sr)\n",
        "spec_cent_mean = float(np.mean(spec_cent))\n",
        "spec_cent_var = float(np.var(spec_cent))\n",
        "print(\"Spectral Centroid Mean:\", spec_cent_mean, \"\\t | Spectral Centroid Variance:\", spec_cent_var)\n",
        "features.append(spec_cent_mean)\n",
        "features.append(spec_cent_var)\n",
        "\n",
        "#get spectral-bandwidth mean & var\n",
        "spec_bw = librosa.feature.spectral_bandwidth(y=y, sr=sr)\n",
        "spec_bw_mean = float(np.mean(spec_bw))\n",
        "spec_bw_var = float(np.var(spec_bw))\n",
        "print(\"Spectral Bandwidth Mean:\", spec_bw_mean, \"\\t | Spectral Bandwidth Variance:\", spec_bw_var)\n",
        "features.append(spec_bw_mean)\n",
        "features.append(spec_bw_var)\n",
        "\n",
        "#get roll-off mean & var\n",
        "spec_roll_off = librosa.feature.spectral_rolloff(y=y, sr=sr)\n",
        "spec_roll_off_mean = float(np.mean(spec_roll_off))\n",
        "spec_roll_off_var = float(np.var(spec_roll_off))\n",
        "print(\"Roll-off Mean:\", spec_roll_off_mean, \"\\t | Roll-off Variance:\", spec_roll_off_var)\n",
        "features.append(spec_roll_off_mean)\n",
        "features.append(spec_roll_off_var)\n",
        "\n",
        "#get zero-crossing-rate mean & var\n",
        "zcr = librosa.feature.zero_crossing_rate(y)\n",
        "zcr_mean = float(np.mean(zcr))\n",
        "zcr_var = float(np.var(zcr))\n",
        "print(\"Zero Crossing Rate Mean:\", zcr_mean, \"\\t | Zero Crossing Rate Variance:\", zcr_var)\n",
        "features.append(zcr_mean)\n",
        "features.append(zcr_var)\n",
        "\n",
        "#get harmonics & percetural mean & var\n",
        "harm, perc = librosa.effects.hpss(y)\n",
        "harm_mean = float(np.mean(harm))\n",
        "harm_var = float(np.var(harm))\n",
        "perc_mean = float(np.mean(perc))\n",
        "perc_var = float(np.var(perc))\n",
        "print(\"Harmonics Mean:\", harm_mean, \"\\t | Harmonics Variance:\", harm_var)\n",
        "print(\"Percetural Mean:\", perc_mean, \"\\t | Percetural Variance:\", perc_var)\n",
        "features.append(harm_mean)\n",
        "features.append(harm_var)\n",
        "features.append(perc_mean)\n",
        "features.append(perc_var)\n",
        "\n",
        "#get tempo\n",
        "tempo, _ = librosa.beat.beat_track(y=y, sr=sr)\n",
        "print(\"Tempo:\", tempo)\n",
        "features.append(float(tempo[0]))\n",
        "\n",
        "#get mfcc_mean & mfcc_var 1 to 20\n",
        "mfcc = librosa.feature.mfcc(y=y, sr=sr, n_mfcc=20)\n",
        "print(\"MFCC: \", mfcc.shape)\n",
        "for i in range(20):\n",
        "  features.append(float(np.mean(mfcc[i])))\n",
        "  features.append(float(np.var(mfcc[i])))\n",
        "  # print(\"MFCC\" + str(i+1) + \" Mean:\", np.mean(mfcc[i]), \"\\t | MFCC\" + str(i+1) + \" Variance:\", np.var(mfcc[i]))\n",
        "\n",
        "\n",
        "\n",
        "print(\"Audio shape:\", y.shape)\n",
        "print(\"Sample rate:\", sr)\n",
        "print(\"\\n Features:\\n\", features)"
      ],
      "metadata": {
        "colab": {
          "base_uri": "https://localhost:8080/"
        },
        "id": "ELUj948pee-l",
        "outputId": "58155559-1c87-47f1-eebc-3364f7bd094a"
      },
      "execution_count": 7,
      "outputs": [
        {
          "output_type": "stream",
          "name": "stdout",
          "text": [
            "File uploaded: Ai Se Eu Te Pego.mp3\n",
            "Full path: /content/Ai Se Eu Te Pego.mp3\n",
            "Sampling rate: 44100\n",
            "New Sampling Rate:  22050\n",
            "Chroma Mean: 0.3597618043422699 \t | Chroma Variance: 0.08780751377344131\n",
            "RMS Mean: 0.18586300313472748 \t | RMS Variance: 0.003760875202715397\n",
            "Spectral Centroid Mean: 2204.03600192656 \t | Spectral Centroid Variance: 595197.0408157627\n",
            "Spectral Bandwidth Mean: 2424.075389395411 \t | Spectral Bandwidth Variance: 182703.56401606588\n",
            "Roll-off Mean: 4628.1986880751265 \t | Roll-off Variance: 2328196.6249690917\n",
            "Zero Crossing Rate Mean: 0.09927859497927789 \t | Zero Crossing Rate Variance: 0.004396040521885233\n",
            "Harmonics Mean: -6.0795602621510625e-05 \t | Harmonics Variance: 0.01746355928480625\n",
            "Percetural Mean: -0.00044534343760460615 \t | Percetural Variance: 0.009708119556307793\n",
            "Tempo: [95.703125]\n",
            "MFCC:  (20, 7118)\n",
            "Audio shape: (3643904,)\n",
            "Sample rate: 22050\n",
            "\n",
            " Features:\n",
            " [0.3597618043422699, 0.08780751377344131, 0.18586300313472748, 0.003760875202715397, 2204.03600192656, 595197.0408157627, 2424.075389395411, 182703.56401606588, 4628.1986880751265, 2328196.6249690917, 0.09927859497927789, 0.004396040521885233, -6.0795602621510625e-05, 0.01746355928480625, -0.00044534343760460615, 0.009708119556307793, 95.703125, -63.147979736328125, 3242.603271484375, 97.04911041259766, 699.7159423828125, -7.279314994812012, 857.5438842773438, 16.270313262939453, 388.23199462890625, 0.9947651028633118, 167.2479248046875, 8.118631362915039, 145.95860290527344, 4.317563533782959, 103.37286376953125, 4.3328680992126465, 64.30704498291016, -0.47745540738105774, 60.04111862182617, 3.757288694381714, 74.79539489746094, -0.3163453936576843, 74.02315521240234, 0.7693062424659729, 64.31763458251953, -2.6958765983581543, 53.08344268798828, -0.8812665343284607, 54.243247985839844, -2.071460008621216, 52.5450439453125, -1.9788641929626465, 47.16252899169922, -3.8898842334747314, 41.69072341918945, -0.1286887526512146, 41.15564727783203, -6.738887310028076, 49.09160614013672, -1.5762684345245361, 50.356842041015625]\n"
          ]
        }
      ]
    },
    {
      "cell_type": "code",
      "source": [
        "y_pred = clf.predict([features])\n",
        "\n",
        "predicted_genres = le.inverse_transform(y_pred)\n",
        "print(\"Predicted Genre: \", predicted_genres)"
      ],
      "metadata": {
        "colab": {
          "base_uri": "https://localhost:8080/"
        },
        "id": "0MbeUU-6PcW0",
        "outputId": "07dc2b3c-fe7b-4c04-bc88-c0c55bb84500"
      },
      "execution_count": 8,
      "outputs": [
        {
          "output_type": "stream",
          "name": "stdout",
          "text": [
            "Predicted Genre:  ['rock']\n"
          ]
        },
        {
          "output_type": "stream",
          "name": "stderr",
          "text": [
            "/usr/local/lib/python3.11/dist-packages/sklearn/utils/deprecation.py:151: FutureWarning: 'force_all_finite' was renamed to 'ensure_all_finite' in 1.6 and will be removed in 1.8.\n",
            "  warnings.warn(\n"
          ]
        }
      ]
    },
    {
      "cell_type": "markdown",
      "source": [
        "## GUI"
      ],
      "metadata": {
        "id": "0Rc3qAuRdkip"
      }
    },
    {
      "cell_type": "code",
      "source": [
        "!pip install flask pyngrok"
      ],
      "metadata": {
        "colab": {
          "base_uri": "https://localhost:8080/"
        },
        "id": "D9RvTW0AjHcs",
        "outputId": "0a3eccd4-6fb1-48c7-8369-17b09f4d3c0f"
      },
      "execution_count": 11,
      "outputs": [
        {
          "output_type": "stream",
          "name": "stdout",
          "text": [
            "Requirement already satisfied: flask in /usr/local/lib/python3.11/dist-packages (3.1.0)\n",
            "Collecting pyngrok\n",
            "  Downloading pyngrok-7.2.5-py3-none-any.whl.metadata (8.9 kB)\n",
            "Requirement already satisfied: Werkzeug>=3.1 in /usr/local/lib/python3.11/dist-packages (from flask) (3.1.3)\n",
            "Requirement already satisfied: Jinja2>=3.1.2 in /usr/local/lib/python3.11/dist-packages (from flask) (3.1.6)\n",
            "Requirement already satisfied: itsdangerous>=2.2 in /usr/local/lib/python3.11/dist-packages (from flask) (2.2.0)\n",
            "Requirement already satisfied: click>=8.1.3 in /usr/local/lib/python3.11/dist-packages (from flask) (8.1.8)\n",
            "Requirement already satisfied: blinker>=1.9 in /usr/local/lib/python3.11/dist-packages (from flask) (1.9.0)\n",
            "Requirement already satisfied: PyYAML>=5.1 in /usr/local/lib/python3.11/dist-packages (from pyngrok) (6.0.2)\n",
            "Requirement already satisfied: MarkupSafe>=2.0 in /usr/local/lib/python3.11/dist-packages (from Jinja2>=3.1.2->flask) (3.0.2)\n",
            "Downloading pyngrok-7.2.5-py3-none-any.whl (23 kB)\n",
            "Installing collected packages: pyngrok\n",
            "Successfully installed pyngrok-7.2.5\n"
          ]
        }
      ]
    },
    {
      "cell_type": "code",
      "source": [
        "from flask import Flask\n",
        "from pyngrok import ngrok, conf\n",
        "from config import NGROK_TOKEN\n",
        "\n",
        "#setup ngrok authotoken\n",
        "token = NGROK_TOKEN\n",
        "ngrok.set_auth_token(token)\n",
        "\n",
        "app = Flask(__name__)\n",
        "\n",
        "@app.route(\"/\")\n",
        "def hello_world():\n",
        "    return \"Hello, World!\"\n",
        "public_url = ngrok.connect(5000)\n",
        "print(\" * ngrok tunnel URL:\", public_url)\n",
        "app.run(port=5000)"
      ],
      "metadata": {
        "colab": {
          "base_uri": "https://localhost:8080/",
          "height": 401
        },
        "id": "qvJKNmXhiZdA",
        "outputId": "c27e1a6b-8b95-4814-b6db-f331b66187df"
      },
      "execution_count": 14,
      "outputs": [
        {
          "output_type": "error",
          "ename": "ModuleNotFoundError",
          "evalue": "No module named 'config'",
          "traceback": [
            "\u001b[0;31m---------------------------------------------------------------------------\u001b[0m",
            "\u001b[0;31mModuleNotFoundError\u001b[0m                       Traceback (most recent call last)",
            "\u001b[0;32m<ipython-input-14-bb05c41b8021>\u001b[0m in \u001b[0;36m<cell line: 0>\u001b[0;34m()\u001b[0m\n\u001b[1;32m      1\u001b[0m \u001b[0;32mfrom\u001b[0m \u001b[0mflask\u001b[0m \u001b[0;32mimport\u001b[0m \u001b[0mFlask\u001b[0m\u001b[0;34m\u001b[0m\u001b[0;34m\u001b[0m\u001b[0m\n\u001b[1;32m      2\u001b[0m \u001b[0;32mfrom\u001b[0m \u001b[0mpyngrok\u001b[0m \u001b[0;32mimport\u001b[0m \u001b[0mngrok\u001b[0m\u001b[0;34m,\u001b[0m \u001b[0mconf\u001b[0m\u001b[0;34m\u001b[0m\u001b[0;34m\u001b[0m\u001b[0m\n\u001b[0;32m----> 3\u001b[0;31m \u001b[0;32mfrom\u001b[0m \u001b[0mconfig\u001b[0m \u001b[0;32mimport\u001b[0m \u001b[0mNGROK_TOKEN\u001b[0m\u001b[0;34m\u001b[0m\u001b[0;34m\u001b[0m\u001b[0m\n\u001b[0m\u001b[1;32m      4\u001b[0m \u001b[0;34m\u001b[0m\u001b[0m\n\u001b[1;32m      5\u001b[0m \u001b[0;31m#setup ngrok authotoken\u001b[0m\u001b[0;34m\u001b[0m\u001b[0;34m\u001b[0m\u001b[0m\n",
            "\u001b[0;31mModuleNotFoundError\u001b[0m: No module named 'config'",
            "",
            "\u001b[0;31m---------------------------------------------------------------------------\u001b[0;32m\nNOTE: If your import is failing due to a missing package, you can\nmanually install dependencies using either !pip or !apt.\n\nTo view examples of installing some common dependencies, click the\n\"Open Examples\" button below.\n\u001b[0;31m---------------------------------------------------------------------------\u001b[0m\n"
          ],
          "errorDetails": {
            "actions": [
              {
                "action": "open_url",
                "actionText": "Open Examples",
                "url": "/notebooks/snippets/importing_libraries.ipynb"
              }
            ]
          }
        }
      ]
    }
  ],
  "metadata": {
    "colab": {
      "provenance": [],
      "include_colab_link": true
    },
    "kernelspec": {
      "display_name": "Python 3",
      "name": "python3"
    }
  },
  "nbformat": 4,
  "nbformat_minor": 0
}