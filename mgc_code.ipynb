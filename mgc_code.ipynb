{
  "cells": [
    {
      "cell_type": "markdown",
      "metadata": {
        "id": "view-in-github",
        "colab_type": "text"
      },
      "source": [
        "<a href=\"https://colab.research.google.com/github/AdamsD02/Music-Genre-Classification/blob/main/mgc_code.ipynb\" target=\"_parent\"><img src=\"https://colab.research.google.com/assets/colab-badge.svg\" alt=\"Open In Colab\"/></a>"
      ]
    },
    {
      "cell_type": "code",
      "execution_count": null,
      "metadata": {
        "id": "VmxQcu5fA42B"
      },
      "outputs": [],
      "source": [
        "%cd \"Music-Genre-Classification\""
      ]
    },
    {
      "cell_type": "code",
      "execution_count": null,
      "metadata": {
        "id": "SEB_jW1oA7i4"
      },
      "outputs": [],
      "source": [
        "%ls"
      ]
    },
    {
      "cell_type": "markdown",
      "metadata": {
        "id": "Dlv8OhfiDEhG"
      },
      "source": [
        " Install Librosa library for audio analysis and manipulation"
      ]
    },
    {
      "cell_type": "code",
      "execution_count": null,
      "metadata": {
        "id": "TiC4VAvwBLoy"
      },
      "outputs": [],
      "source": [
        "pip install librosa"
      ]
    },
    {
      "cell_type": "markdown",
      "source": [
        "### Import Libraries"
      ],
      "metadata": {
        "id": "YO4AaHuDkeS5"
      }
    },
    {
      "cell_type": "code",
      "source": [
        "import os\n",
        "import librosa\n",
        "import numpy as np\n",
        "import pandas as pd\n",
        "from sklearn.model_selection import train_test_split\n",
        "from sklearn.linear_model import LinearRegression\n"
      ],
      "metadata": {
        "id": "E2szZvKgkl-h"
      },
      "execution_count": 33,
      "outputs": []
    },
    {
      "cell_type": "markdown",
      "source": [
        "## Read .csv file containing data for Classifying Genres"
      ],
      "metadata": {
        "id": "mu1nljeDZ4ZX"
      }
    },
    {
      "cell_type": "code",
      "source": [
        "df = pd.read_csv(\"/content/Music-Genre-Classification/features_30_sec.csv\")\n",
        "# df.head()\n",
        "# list dataset features\n",
        "print(df.columns.tolist())"
      ],
      "metadata": {
        "id": "xDEILcL4PO9X"
      },
      "execution_count": null,
      "outputs": []
    },
    {
      "cell_type": "markdown",
      "source": [
        "### Manipulate dataframe to:\n",
        "*   Separate target(X) and features(y)\n",
        "*   Split into traning and testing (80-20)"
      ],
      "metadata": {
        "id": "yi-uXBfEgrly"
      }
    },
    {
      "cell_type": "code",
      "source": [
        "X = df.iloc[:, 2:59] # chroma_stft_mean to mfcc20_var\n",
        "\n",
        "# Encode non-numerical data\n",
        "from sklearn.preprocessing import LabelEncoder\n",
        "le = LabelEncoder()\n",
        "y = le.fit_transform(df['label'])\n",
        "\n",
        "print(X.shape)\n",
        "print(np.unique(y))\n",
        "\n",
        "X_train, X_test, y_train, y_test = train_test_split(X, y, test_size=0.2, random_state=4)\n",
        "print(\"X_train size: \", len(X_train))\n",
        "print(\"X_test size: \", len(X_test))"
      ],
      "metadata": {
        "id": "XCQd-DJ4fNk0"
      },
      "execution_count": null,
      "outputs": []
    },
    {
      "cell_type": "markdown",
      "source": [
        "### Use LightGBM as Model Classification and training"
      ],
      "metadata": {
        "id": "vdGucZrlgZH5"
      }
    },
    {
      "cell_type": "code",
      "source": [
        "import lightgbm as lgb\n",
        "\n",
        "clf = lgb.LGBMClassifier()\n",
        "# clf = lgb.LGBMClassifier(force_col_wise=False)\n",
        "clf.fit(X_train, y_train)\n"
      ],
      "metadata": {
        "id": "O42MmKcfghBb"
      },
      "execution_count": null,
      "outputs": []
    },
    {
      "cell_type": "markdown",
      "source": [
        "### Testing and Predictions"
      ],
      "metadata": {
        "id": "lwjQjTRCzV6k"
      }
    },
    {
      "cell_type": "code",
      "source": [
        "# predict the results\n",
        "y_pred = clf.predict(X_test)\n",
        "\n",
        "predicted_genres = le.inverse_transform(y_pred)\n",
        "\n",
        "mse = np.mean((y_pred - y_test) ** 2)\n",
        "count = 0\n",
        "print(\"Mse: \", mse)\n",
        "# print(y_pred)\n",
        "for i in range(len(y_pred)):\n",
        "  if y_pred[i] - y_test[i] == 0:\n",
        "    count += 1\n",
        "  # print(\"Predicted: \", predicted_genres[i], \"\\t| Actual: \", le.inverse_transform([y_test[i]]))\n",
        "\n",
        "print(\"Accuracy: \", count/len(y_pred))\n"
      ],
      "metadata": {
        "id": "UFDTWAXRzUu3"
      },
      "execution_count": null,
      "outputs": []
    },
    {
      "cell_type": "markdown",
      "source": [
        "## Feature Extraction from Uploaded Audio\n",
        "\n",
        "1.   Load and get sampling rate (sr)\n",
        "2.   trim audio (y)\n",
        "3.   sr should match fixed value in dataset, if not then resample\n",
        "4.   find chroma_stft, then its mean & variance\n",
        "5.   find rms, then its mean & var\n",
        "6.   find spectral_centroid, then its mean and var\n",
        "7.   find spectral_bandwidth, then its mean & var\n",
        "8.   roll_off, then its mean & var\n",
        "9.   zero-crossing-rate\n",
        "10.  harmonics, percetrual\n",
        "11.  tempo\n",
        "12.  mfcc with n_mfcc=20\n"
      ],
      "metadata": {
        "id": "IzYK6P2Wv-A-"
      }
    },
    {
      "cell_type": "code",
      "source": [
        "# n_fft=2048, hop_length=512\n",
        "def get_genre(filepath):\n",
        "  # Load an MP3 file\n",
        "  y, sr = librosa.load(filepath, sr=None)  # sr=None keeps original sample rate\n",
        "  print(\"Sampling rate:\", sr)\n",
        "\n",
        "  if sr != 22050:\n",
        "    y = librosa.resample(y=y, orig_sr=sr, target_sr=22050)\n",
        "    sr = 22050\n",
        "    print(\"New Sampling Rate: \", sr)\n",
        "\n",
        "  features = []\n",
        "\n",
        "  #get chroma_mean and chroma_var\n",
        "  chroma = librosa.feature.chroma_stft(y=y, sr=sr)\n",
        "  chroma_mean = float(np.mean(chroma))\n",
        "  chroma_var = float(np.var(chroma))\n",
        "  # print(\"Chroma Mean:\", chroma_mean, \"\\t | Chroma Variance:\", chroma_var)\n",
        "  features.append(chroma_mean)\n",
        "  features.append(chroma_var)\n",
        "\n",
        "  #get rms_mean & rms_var\n",
        "  rms = librosa.feature.rms(y=y)\n",
        "  rms_mean = float(np.mean(rms))\n",
        "  rms_var = float(np.var(rms))\n",
        "  # print(\"RMS Mean:\", rms_mean, \"\\t | RMS Variance:\", rms_var)\n",
        "  features.append(rms_mean)\n",
        "  features.append(rms_var)\n",
        "\n",
        "  #get spectral-centroid mean & var\n",
        "  spec_cent = librosa.feature.spectral_centroid(y=y, sr=sr)\n",
        "  spec_cent_mean = float(np.mean(spec_cent))\n",
        "  spec_cent_var = float(np.var(spec_cent))\n",
        "  # print(\"Spectral Centroid Mean:\", spec_cent_mean, \"\\t | Spectral Centroid Variance:\", spec_cent_var)\n",
        "  features.append(spec_cent_mean)\n",
        "  features.append(spec_cent_var)\n",
        "\n",
        "  #get spectral-bandwidth mean & var\n",
        "  spec_bw = librosa.feature.spectral_bandwidth(y=y, sr=sr)\n",
        "  spec_bw_mean = float(np.mean(spec_bw))\n",
        "  spec_bw_var = float(np.var(spec_bw))\n",
        "  # print(\"Spectral Bandwidth Mean:\", spec_bw_mean, \"\\t | Spectral Bandwidth Variance:\", spec_bw_var)\n",
        "  features.append(spec_bw_mean)\n",
        "  features.append(spec_bw_var)\n",
        "\n",
        "  #get roll-off mean & var\n",
        "  spec_roll_off = librosa.feature.spectral_rolloff(y=y, sr=sr)\n",
        "  spec_roll_off_mean = float(np.mean(spec_roll_off))\n",
        "  spec_roll_off_var = float(np.var(spec_roll_off))\n",
        "  # print(\"Roll-off Mean:\", spec_roll_off_mean, \"\\t | Roll-off Variance:\", spec_roll_off_var)\n",
        "  features.append(spec_roll_off_mean)\n",
        "  features.append(spec_roll_off_var)\n",
        "\n",
        "  #get zero-crossing-rate mean & var\n",
        "  zcr = librosa.feature.zero_crossing_rate(y)\n",
        "  zcr_mean = float(np.mean(zcr))\n",
        "  zcr_var = float(np.var(zcr))\n",
        "  # print(\"Zero Crossing Rate Mean:\", zcr_mean, \"\\t | Zero Crossing Rate Variance:\", zcr_var)\n",
        "  features.append(zcr_mean)\n",
        "  features.append(zcr_var)\n",
        "\n",
        "  #get harmonics & percetural mean & var\n",
        "  harm, perc = librosa.effects.hpss(y)\n",
        "  harm_mean = float(np.mean(harm))\n",
        "  harm_var = float(np.var(harm))\n",
        "  perc_mean = float(np.mean(perc))\n",
        "  perc_var = float(np.var(perc))\n",
        "  # print(\"Harmonics Mean:\", harm_mean, \"\\t | Harmonics Variance:\", harm_var)\n",
        "  # print(\"Percetural Mean:\", perc_mean, \"\\t | Percetural Variance:\", perc_var)\n",
        "  features.append(harm_mean)\n",
        "  features.append(harm_var)\n",
        "  features.append(perc_mean)\n",
        "  features.append(perc_var)\n",
        "\n",
        "  #get tempo\n",
        "  tempo, _ = librosa.beat.beat_track(y=y, sr=sr)\n",
        "  # print(\"Tempo:\", tempo)\n",
        "  features.append(float(tempo[0]))\n",
        "\n",
        "  #get mfcc_mean & mfcc_var 1 to 20\n",
        "  mfcc = librosa.feature.mfcc(y=y, sr=sr, n_mfcc=20)\n",
        "  print(\"MFCC: \", mfcc.shape)\n",
        "  for i in range(20):\n",
        "    features.append(float(np.mean(mfcc[i])))\n",
        "    features.append(float(np.var(mfcc[i])))\n",
        "    # print(\"MFCC\" + str(i+1) + \" Mean:\", np.mean(mfcc[i]), \"\\t | MFCC\" + str(i+1) + \" Variance:\", np.var(mfcc[i]))\n",
        "\n",
        "  print(\"Audio shape:\", y.shape)\n",
        "  print(\"\\n Features:\\n\", features)\n",
        "\n",
        "  y_pred = clf.predict([features])\n",
        "\n",
        "  predicted_genres = le.inverse_transform(y_pred)\n",
        "  print(\"Predicted Genre: \", predicted_genres)\n",
        "  return predicted_genres[0]"
      ],
      "metadata": {
        "id": "ELUj948pee-l"
      },
      "execution_count": 55,
      "outputs": []
    },
    {
      "cell_type": "markdown",
      "source": [
        "test get_genre() function using files.upload()"
      ],
      "metadata": {
        "id": "uR0F6RY7G2fM"
      }
    },
    {
      "cell_type": "code",
      "source": [
        "from google.colab import files\n",
        "\n",
        "myfile = files.upload()\n",
        "\n",
        "filename = list(myfile.keys())[0]\n",
        "print(\"File uploaded:\", filename)\n",
        "\n",
        "# If needed, get full path\n",
        "filepath = os.path.join(os.getcwd(), filename)\n",
        "print(\"Full path:\", filepath)\n",
        "\n",
        "print(get_genre(filepath))"
      ],
      "metadata": {
        "id": "2b8UwCtRcWHd"
      },
      "execution_count": null,
      "outputs": []
    },
    {
      "cell_type": "markdown",
      "source": [
        "## GUI with Flask and ngrok"
      ],
      "metadata": {
        "id": "0Rc3qAuRdkip"
      }
    },
    {
      "cell_type": "code",
      "source": [
        "!pip install flask pyngrok"
      ],
      "metadata": {
        "id": "D9RvTW0AjHcs"
      },
      "execution_count": null,
      "outputs": []
    },
    {
      "cell_type": "code",
      "source": [
        "\n",
        "import soundfile as sf\n",
        "from flask import Flask, request, render_template_string\n",
        "from pyngrok import ngrok, conf\n",
        "from config import NGROK_TOKEN\n",
        "\n",
        "\n",
        "app = Flask(__name__)\n",
        "\n",
        "#set upload directory\n",
        "UPLOAD_FOLDER = '/content/Music-Genre-Classification/Upload'\n",
        "os.makedirs(UPLOAD_FOLDER, exist_ok=True)\n",
        "app.config['UPLOAD_FOLDER'] = UPLOAD_FOLDER\n",
        "\n",
        "# HTML template\n",
        "form_html = '''\n",
        "<!DOCTYPE html>\n",
        "<head>\n",
        "  <title>Detect Genre</title>\n",
        "  <style>\n",
        "    * {\n",
        "      padding: 0;\n",
        "      margin: 0;\n",
        "      box-sizing: border-box;\n",
        "    }\n",
        "    body {\n",
        "      font-family: Consolas, Arial, sans-serif;\n",
        "      width: 100%;\n",
        "      height: 99vh;\n",
        "      background-color: #fff;\n",
        "      text-align: center;\n",
        "    }\n",
        "    h1 {\n",
        "      font-size: 2.5rem;\n",
        "      padding-top: 20px;\n",
        "      margin: auto;\n",
        "      text-align: center;\n",
        "      color: #0281f7;\n",
        "    }\n",
        "    h2 {\n",
        "      font-size: 1.5rem;\n",
        "      margin: auto;\n",
        "      text-align: center;\n",
        "      color: #353;\n",
        "    }\n",
        "    form {\n",
        "      margin: 20px auto;\n",
        "      max-width: 500px;\n",
        "      padding: 10px;\n",
        "      text-align: center;\n",
        "      background-color: #bdf5ff;\n",
        "      border-radius: 5px;\n",
        "      box-shadow: 0 1px 8px rgba(0, 0, 0, 0.2);\n",
        "    }\n",
        "    input[type=\"file\"] {\n",
        "      max-width: 80%;\n",
        "      font-size: 1rem;\n",
        "      margin: 20px;\n",
        "    }\n",
        "    input[type=\"submit\"] {\n",
        "      margin: 10px, auto;\n",
        "      width: 250px;\n",
        "      font-size: 1rem;\n",
        "      padding: 10px;\n",
        "      background: #0281f7;\n",
        "      border: unset;\n",
        "      border-radius: 5px;\n",
        "      cursor: pointer;\n",
        "    }\n",
        "    section {\n",
        "      background: #c4ddf5;\n",
        "      margin: 10px, auto;\n",
        "      padding: 15px;\n",
        "      font-size: 1rem;\n",
        "    }\n",
        "  </style>\n",
        "</head>\n",
        "<body>\n",
        "  <h1>Detect Genre</h1>\n",
        "  <h2>Upload an audio file</h2>\n",
        "  <form method=post enctype=multipart/form-data>\n",
        "    <input type=file name=audio_file>\n",
        "    <br>\n",
        "    <input type=submit value=Upload>\n",
        "  </form>\n",
        "  <section>\n",
        "  {% if genre %}\n",
        "  <h3>Genre of music is:</h3>\n",
        "  <pre>{{ genre }}</pre>\n",
        "  {% elif error %}\n",
        "  <h3 style=\"color: #ffaaaa\">{{error}}</h3>\n",
        "  {% endif %}\n",
        "  </section>\n",
        "</body>\n",
        "'''\n",
        "\n",
        "# Route\n",
        "@app.route('/', methods=['GET', 'POST'])\n",
        "def upload_file():\n",
        "    genre = None\n",
        "    error = None\n",
        "    if request.method == 'POST':\n",
        "        file = request.files['audio_file']\n",
        "        filepath = os.path.join(app.config['UPLOAD_FOLDER'], file.filename)\n",
        "        file.save(filepath)\n",
        "        try:\n",
        "          # call get_genre()\n",
        "          genre = get_genre(filepath=filepath)\n",
        "        except Exception as e:\n",
        "          error = f\"Error processing file: {str(e)}\"\n",
        "\n",
        "    return render_template_string(form_html, genre=genre, error=error)\n",
        "\n",
        "\n",
        "# ngrok tunnel setup\n",
        "ngrok.set_auth_token(NGROK_TOKEN)\n",
        "\n",
        "public_url = ngrok.connect(5000)\n",
        "print(\" * ngrok tunnel URL:\", public_url)\n",
        "\n",
        "#run app\n",
        "app.run(port=5000)\n",
        "\n"
      ],
      "metadata": {
        "id": "qvJKNmXhiZdA"
      },
      "execution_count": null,
      "outputs": []
    },
    {
      "cell_type": "markdown",
      "source": [
        "ngrok's authotoken needs to be saved in a file called config.py"
      ],
      "metadata": {
        "id": "l3SXIC7udgjV"
      }
    },
    {
      "cell_type": "code",
      "source": [],
      "metadata": {
        "id": "JiRn1IWlduHI"
      },
      "execution_count": null,
      "outputs": []
    }
  ],
  "metadata": {
    "colab": {
      "provenance": [],
      "include_colab_link": true
    },
    "kernelspec": {
      "display_name": "Python 3",
      "name": "python3"
    }
  },
  "nbformat": 4,
  "nbformat_minor": 0
}